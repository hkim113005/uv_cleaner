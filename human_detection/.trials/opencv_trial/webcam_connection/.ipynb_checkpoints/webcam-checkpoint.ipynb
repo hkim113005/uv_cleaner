{
 "cells": [
  {
   "cell_type": "code",
   "execution_count": 4,
   "id": "ed78922e",
   "metadata": {
    "scrolled": true
   },
   "outputs": [
    {
     "name": "stdout",
     "output_type": "stream",
     "text": [
      "Collecting opencv-python==4.2.0.34\n",
      "  Downloading opencv_python-4.2.0.34-cp38-cp38-macosx_10_9_x86_64.whl (49.1 MB)\n",
      "\u001b[K     |████████████████████████████████| 49.1 MB 897 kB/s eta 0:00:01     |███████████                     | 17.0 MB 105 kB/s eta 0:05:04     |███████████▍                    | 17.4 MB 42 kB/s eta 0:12:19     |█████████████████████████▉      | 39.6 MB 2.1 MB/s eta 0:00:05�██████████████████████     | 41.3 MB 83 kB/s eta 0:01:34\n",
      "\u001b[?25hRequirement already satisfied: numpy>=1.17.3 in /Users/hyungjaekim/opt/anaconda3/lib/python3.8/site-packages (from opencv-python==4.2.0.34) (1.20.1)\n",
      "Installing collected packages: opencv-python\n",
      "Successfully installed opencv-python-4.2.0.34\n"
     ]
    }
   ],
   "source": [
    "import sys\n",
    "!{sys.executable} -m pip install opencv-python==4.2.0.34"
   ]
  },
  {
   "cell_type": "code",
   "execution_count": 5,
   "id": "97ed35c6",
   "metadata": {},
   "outputs": [],
   "source": [
    "import cv2 as cv"
   ]
  },
  {
   "cell_type": "code",
   "execution_count": 6,
   "id": "a3bbd9f8",
   "metadata": {},
   "outputs": [
    {
     "ename": "error",
     "evalue": "OpenCV(4.2.0) /Users/travis/build/skvark/opencv-python/opencv/modules/highgui/src/window.cpp:376: error: (-215:Assertion failed) size.width>0 && size.height>0 in function 'imshow'\n",
     "output_type": "error",
     "traceback": [
      "\u001b[0;31m---------------------------------------------------------------------------\u001b[0m",
      "\u001b[0;31merror\u001b[0m                                     Traceback (most recent call last)",
      "\u001b[0;32m<ipython-input-6-aa08fbfd4a64>\u001b[0m in \u001b[0;36m<module>\u001b[0;34m\u001b[0m\n\u001b[1;32m      1\u001b[0m \u001b[0mimg\u001b[0m \u001b[0;34m=\u001b[0m \u001b[0mcv\u001b[0m\u001b[0;34m.\u001b[0m\u001b[0mimread\u001b[0m\u001b[0;34m(\u001b[0m\u001b[0;34m'/images/China_Crosses_Yalu.jpg'\u001b[0m\u001b[0;34m)\u001b[0m\u001b[0;34m\u001b[0m\u001b[0;34m\u001b[0m\u001b[0m\n\u001b[1;32m      2\u001b[0m \u001b[0;34m\u001b[0m\u001b[0m\n\u001b[0;32m----> 3\u001b[0;31m \u001b[0mcv\u001b[0m\u001b[0;34m.\u001b[0m\u001b[0mimshow\u001b[0m\u001b[0;34m(\u001b[0m\u001b[0;34m'yalu'\u001b[0m\u001b[0;34m,\u001b[0m \u001b[0mimg\u001b[0m\u001b[0;34m)\u001b[0m\u001b[0;34m\u001b[0m\u001b[0;34m\u001b[0m\u001b[0m\n\u001b[0m\u001b[1;32m      4\u001b[0m \u001b[0;34m\u001b[0m\u001b[0m\n\u001b[1;32m      5\u001b[0m \u001b[0mcv\u001b[0m\u001b[0;34m.\u001b[0m\u001b[0mwaitKey\u001b[0m\u001b[0;34m(\u001b[0m\u001b[0;36m0\u001b[0m\u001b[0;34m)\u001b[0m\u001b[0;34m\u001b[0m\u001b[0;34m\u001b[0m\u001b[0m\n",
      "\u001b[0;31merror\u001b[0m: OpenCV(4.2.0) /Users/travis/build/skvark/opencv-python/opencv/modules/highgui/src/window.cpp:376: error: (-215:Assertion failed) size.width>0 && size.height>0 in function 'imshow'\n"
     ]
    }
   ],
   "source": [
    "img = cv.imread('/images/China_Crosses_Yalu.jpg')\n",
    "\n",
    "cv.imshow('yalu', img)\n",
    "\n",
    "cv.waitKey(0)\n",
    "cv.destroyAllWindows()"
   ]
  },
  {
   "cell_type": "code",
   "execution_count": 8,
   "id": "60d40d42",
   "metadata": {},
   "outputs": [
    {
     "name": "stdout",
     "output_type": "stream",
     "text": [
      "[[[ 25  22  25]\n",
      "  [ 24  21  24]\n",
      "  [ 23  20  23]\n",
      "  ...\n",
      "  [184 191 197]\n",
      "  [185 192 198]\n",
      "  [185 192 198]]\n",
      "\n",
      " [[ 21  17  20]\n",
      "  [ 21  17  20]\n",
      "  [ 23  20  23]\n",
      "  ...\n",
      "  [184 191 197]\n",
      "  [185 192 198]\n",
      "  [185 192 198]]\n",
      "\n",
      " [[ 20  16  19]\n",
      "  [ 22  19  21]\n",
      "  [ 23  20  23]\n",
      "  ...\n",
      "  [184 191 197]\n",
      "  [185 192 198]\n",
      "  [185 192 198]]\n",
      "\n",
      " ...\n",
      "\n",
      " [[ 50  66  93]\n",
      "  [ 52  68  95]\n",
      "  [ 58  75 100]\n",
      "  ...\n",
      "  [150 166 174]\n",
      "  [149 164 175]\n",
      "  [149 164 175]]\n",
      "\n",
      " [[ 57  73 100]\n",
      "  [ 56  72  99]\n",
      "  [ 54  70  95]\n",
      "  ...\n",
      "  [150 166 174]\n",
      "  [150 165 176]\n",
      "  [150 165 176]]\n",
      "\n",
      " [[ 58  74 101]\n",
      "  [ 56  72  99]\n",
      "  [ 54  70  95]\n",
      "  ...\n",
      "  [150 166 174]\n",
      "  [150 165 176]\n",
      "  [150 165 176]]]\n"
     ]
    }
   ],
   "source": [
    "capture = cv.VideoCapture(0)\n",
    "\n",
    "cnt = 0\n",
    "while True:\n",
    "    cnt = cnt + 1\n",
    "    isTrue, img = capture.read()\n",
    "    \n",
    "    if isTrue:\n",
    "        cv.imshow('webcam', img)\n",
    "    else:\n",
    "        print(img)\n",
    "    \n",
    "    if cv.waitKey(20) & 0xFF == ord('d'):\n",
    "        break\n",
    "        \n",
    "capture.release()\n",
    "cv.destroyAllWindows()"
   ]
  },
  {
   "cell_type": "code",
   "execution_count": null,
   "id": "b3cd9c9f",
   "metadata": {},
   "outputs": [],
   "source": []
  }
 ],
 "metadata": {
  "kernelspec": {
   "display_name": "Python 3",
   "language": "python",
   "name": "python3"
  },
  "language_info": {
   "codemirror_mode": {
    "name": "ipython",
    "version": 3
   },
   "file_extension": ".py",
   "mimetype": "text/x-python",
   "name": "python",
   "nbconvert_exporter": "python",
   "pygments_lexer": "ipython3",
   "version": "3.8.8"
  }
 },
 "nbformat": 4,
 "nbformat_minor": 5
}
