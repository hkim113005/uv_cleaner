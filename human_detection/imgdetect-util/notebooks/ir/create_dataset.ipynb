{
 "cells": [
  {
   "cell_type": "markdown",
   "metadata": {},
   "source": [
    "Import stuff\n",
    "------------"
   ]
  },
  {
   "cell_type": "code",
   "execution_count": 4,
   "metadata": {
    "pycharm": {
     "is_executing": false
    }
   },
   "outputs": [],
   "source": [
    "import os\n",
    "import sys\n",
    "import cv2\n",
    "\n",
    "basedir = os.path.join(os.path.expanduser('~'), 'git_tree', 'imgdetect')\n",
    "model_dir = os.path.join(basedir, 'models', 'ir')\n",
    "properties_file = os.path.join(model_dir, 'ir.json')\n",
    "model_file = os.path.join(model_dir, 'ir.pb')\n",
    "\n",
    "dataset_base_dir = os.path.join(basedir, 'datasets', 'ir')\n",
    "dataset_dir = os.path.join(dataset_base_dir, 'dataset')\n",
    "img_dir = os.path.join(dataset_base_dir, 'images')\n",
    "\n",
    "input_size = (24, 32)\n",
    "# color_convert = cv2.COLOR_BGR2GRAY\n",
    "# color_convert = cv2.COLOR_BGR2HLS\n",
    "\n",
    "sys.path.append(os.path.join(basedir))\n",
    "\n",
    "from src.image_helpers import create_dataset_files\n"
   ]
  },
  {
   "cell_type": "markdown",
   "metadata": {},
   "source": [
    "Create a dataset file from the available images\n",
    "-----------------------------------------------"
   ]
  },
  {
   "cell_type": "code",
   "execution_count": 6,
   "metadata": {
    "pycharm": {
     "is_executing": true,
     "name": "#%%\n"
    }
   },
   "outputs": [
    {
     "name": "stdout",
     "output_type": "stream",
     "text": [
      "Processing 890 images to 1 dataset files. Format: /home/blacklight/git_tree/imgdetect/datasets/ir/dataset/dataset{:01}.npz\n",
      "Storing dataset vectors to /home/blacklight/git_tree/imgdetect/datasets/ir/dataset/dataset0.npz\n"
     ]
    },
    {
     "data": {
      "text/plain": [
       "['/home/blacklight/git_tree/imgdetect/datasets/ir/dataset/dataset0.npz']"
      ]
     },
     "execution_count": 6,
     "metadata": {},
     "output_type": "execute_result"
    }
   ],
   "source": [
    "dataset_files = create_dataset_files(img_dir, dataset_dir,\n",
    "                                     split_size=1000,\n",
    "                                     num_threads=1,\n",
    "                                     resize=input_size)\n",
    "dataset_files"
   ]
  }
 ],
 "metadata": {
  "kernelspec": {
   "display_name": "Python 3",
   "language": "python",
   "name": "python3"
  },
  "language_info": {
   "codemirror_mode": {
    "name": "ipython",
    "version": 3
   },
   "file_extension": ".py",
   "mimetype": "text/x-python",
   "name": "python",
   "nbconvert_exporter": "python",
   "pygments_lexer": "ipython3",
   "version": "3.7.4"
  },
  "pycharm": {
   "stem_cell": {
    "cell_type": "raw",
    "metadata": {
     "collapsed": false
    },
    "source": []
   }
  }
 },
 "nbformat": 4,
 "nbformat_minor": 1
}
