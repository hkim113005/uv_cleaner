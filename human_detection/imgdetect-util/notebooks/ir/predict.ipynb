{
 "cells": [
  {
   "cell_type": "markdown",
   "metadata": {},
   "source": [
    "Load the model from file\n",
    "------------------------"
   ]
  },
  {
   "cell_type": "code",
   "execution_count": 2,
   "metadata": {
    "pycharm": {
     "is_executing": false
    }
   },
   "outputs": [],
   "source": [
    "import os\n",
    "import sys\n",
    "import cv2\n",
    "\n",
    "basedir = os.path.join(os.path.expanduser('~'), 'git_tree', 'imgdetect')\n",
    "sys.path.append(os.path.join(basedir))\n",
    "\n",
    "from src.image_helpers import expand_images\n",
    "from src.train_helpers import predict\n",
    "\n",
    "tf_model_dir = os.path.join(basedir, 'models', 'ir', 'tensorflow')\n",
    "tf_model_file = os.path.join(tf_model_dir, 'ir.pb')\n",
    "tf_properties_file = os.path.join(tf_model_dir, 'ir.json')\n",
    "\n",
    "h5_model_dir = os.path.join(basedir, 'models', 'ir', 'keras')\n",
    "h5_model_file = os.path.join(h5_model_dir, 'ir.h5')\n",
    "h5_weights_file = os.path.join(h5_model_dir, 'ir.json')\n",
    "\n",
    "img_dir = os.path.join(basedir, 'datasets', 'ir', 'images')\n"
   ]
  },
  {
   "cell_type": "markdown",
   "metadata": {},
   "source": [
    "Load the model from file (OpenCV)\n",
    "---------------------------------"
   ]
  },
  {
   "cell_type": "code",
   "execution_count": 3,
   "metadata": {
    "pycharm": {
     "is_executing": false
    }
   },
   "outputs": [],
   "source": [
    "model = cv2.dnn.readNetFromTensorflow(tf_model_file)"
   ]
  },
  {
   "cell_type": "code",
   "execution_count": 4,
   "metadata": {
    "pycharm": {
     "is_executing": false
    }
   },
   "outputs": [
    {
     "name": "stdout",
     "output_type": "stream",
     "text": [
      "Expected: negative\tPredicted: negative\n",
      "Expected: negative\tPredicted: negative\n",
      "Expected: negative\tPredicted: negative\n",
      "Expected: negative\tPredicted: negative\n",
      "Expected: negative\tPredicted: negative\n",
      "Expected: negative\tPredicted: negative\n",
      "Expected: negative\tPredicted: negative\n",
      "Expected: negative\tPredicted: negative\n",
      "Expected: negative\tPredicted: negative\n",
      "Expected: negative\tPredicted: negative\n",
      "Expected: negative\tPredicted: negative\n",
      "Expected: negative\tPredicted: negative\n",
      "Expected: negative\tPredicted: negative\n",
      "Expected: negative\tPredicted: negative\n",
      "Expected: negative\tPredicted: negative\n",
      "Expected: negative\tPredicted: negative\n",
      "Expected: negative\tPredicted: negative\n",
      "Expected: negative\tPredicted: negative\n",
      "Expected: negative\tPredicted: negative\n",
      "Expected: negative\tPredicted: negative\n",
      "Expected: negative\tPredicted: negative\n",
      "Expected: negative\tPredicted: negative\n",
      "Expected: negative\tPredicted: negative\n",
      "Expected: negative\tPredicted: negative\n",
      "Expected: negative\tPredicted: negative\n",
      "Expected: negative\tPredicted: negative\n",
      "Expected: negative\tPredicted: negative\n",
      "Expected: negative\tPredicted: negative\n",
      "Expected: negative\tPredicted: negative\n",
      "Expected: negative\tPredicted: negative\n",
      "Expected: negative\tPredicted: negative\n",
      "Expected: negative\tPredicted: negative\n",
      "Expected: negative\tPredicted: negative\n",
      "Expected: negative\tPredicted: negative\n",
      "Expected: negative\tPredicted: negative\n",
      "Expected: negative\tPredicted: negative\n",
      "Expected: negative\tPredicted: negative\n",
      "Expected: negative\tPredicted: negative\n",
      "Expected: negative\tPredicted: negative\n",
      "Expected: negative\tPredicted: negative\n",
      "Expected: positive\tPredicted: positive\n",
      "Expected: positive\tPredicted: positive\n",
      "Expected: positive\tPredicted: positive\n",
      "Expected: positive\tPredicted: positive\n",
      "Expected: positive\tPredicted: positive\n",
      "Expected: positive\tPredicted: positive\n",
      "Expected: positive\tPredicted: positive\n",
      "Expected: positive\tPredicted: positive\n",
      "Expected: positive\tPredicted: positive\n",
      "Expected: positive\tPredicted: positive\n",
      "Expected: positive\tPredicted: positive\n",
      "Expected: positive\tPredicted: positive\n",
      "Expected: positive\tPredicted: positive\n",
      "Expected: positive\tPredicted: positive\n",
      "Expected: positive\tPredicted: positive\n",
      "Expected: positive\tPredicted: positive\n",
      "Expected: positive\tPredicted: positive\n",
      "Expected: positive\tPredicted: positive\n",
      "Expected: positive\tPredicted: positive\n",
      "Expected: positive\tPredicted: positive\n",
      "Expected: positive\tPredicted: positive\n",
      "Expected: positive\tPredicted: positive\n",
      "Expected: positive\tPredicted: positive\n",
      "Expected: positive\tPredicted: positive\n",
      "Expected: positive\tPredicted: positive\n",
      "Expected: positive\tPredicted: positive\n",
      "Expected: positive\tPredicted: positive\n",
      "Expected: positive\tPredicted: positive\n",
      "Expected: positive\tPredicted: positive\n",
      "Expected: positive\tPredicted: positive\n",
      "Expected: positive\tPredicted: positive\n",
      "Expected: positive\tPredicted: positive\n",
      "Expected: positive\tPredicted: positive\n",
      "Expected: positive\tPredicted: positive\n",
      "Expected: positive\tPredicted: positive\n",
      "Expected: positive\tPredicted: positive\n",
      "Expected: positive\tPredicted: positive\n",
      "Expected: positive\tPredicted: positive\n",
      "Expected: positive\tPredicted: positive\n",
      "Expected: positive\tPredicted: positive\n",
      "\n",
      "Accuracy: 100.0%\n"
     ]
    }
   ],
   "source": [
    "import os\n",
    "import random\n",
    "\n",
    "processed = 0; correct = 0\n",
    "classes = ['negative', 'positive']\n",
    "images = {\n",
    "    label: expand_images(os.path.join(img_dir, label))\n",
    "    for label in classes\n",
    "}\n",
    "\n",
    "for label in classes:\n",
    "    idx = list(range(0, len(images[label])-1))\n",
    "\n",
    "    for _ in range(0, 40):\n",
    "        i = idx.pop(random.randint(0, len(idx)))\n",
    "        img = images[label][i]\n",
    "        prediction = predict(model=model,\n",
    "                             img=img,\n",
    "                             properties_file=tf_properties_file)\n",
    "\n",
    "        print('Expected: {}\\tPredicted: {}'.format(label, prediction))\n",
    "\n",
    "        processed += 1\n",
    "        if label == prediction:\n",
    "            correct += 1\n",
    "\n",
    "print('\\nAccuracy: {}%'.format(100 * correct/processed))\n"
   ]
  }
 ],
 "metadata": {
  "kernelspec": {
   "display_name": "Python 3",
   "language": "python",
   "name": "python3"
  },
  "language_info": {
   "codemirror_mode": {
    "name": "ipython",
    "version": 3
   },
   "file_extension": ".py",
   "mimetype": "text/x-python",
   "name": "python",
   "nbconvert_exporter": "python",
   "pygments_lexer": "ipython3",
   "version": "3.7.4"
  },
  "pycharm": {
   "stem_cell": {
    "cell_type": "raw",
    "metadata": {
     "collapsed": false
    },
    "source": []
   }
  }
 },
 "nbformat": 4,
 "nbformat_minor": 1
}
